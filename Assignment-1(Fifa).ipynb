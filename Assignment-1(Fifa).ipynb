{
 "cells": [
  {
   "cell_type": "code",
   "execution_count": 1,
   "id": "4fecfa78-19a5-4ef8-8716-d2fb0da9cb00",
   "metadata": {},
   "outputs": [
    {
     "name": "stdout",
     "output_type": "stream",
     "text": [
      "           ID                Name  Age  \\\n",
      "0      158023            L. Messi   31   \n",
      "1       20801   Cristiano Ronaldo   33   \n",
      "2      190871           Neymar Jr   26   \n",
      "3      193080              De Gea   27   \n",
      "4      192985        K. De Bruyne   27   \n",
      "...       ...                 ...  ...   \n",
      "18202  238813        J. Lundstram   19   \n",
      "18203  243165  N. Christoffersson   19   \n",
      "18204  241638           B. Worman   16   \n",
      "18205  246268      D. Walker-Rice   17   \n",
      "18206  246269           G. Nugent   16   \n",
      "\n",
      "                                                Photo Nationality  \\\n",
      "0      https://cdn.sofifa.org/players/4/19/158023.png   Argentina   \n",
      "1       https://cdn.sofifa.org/players/4/19/20801.png    Portugal   \n",
      "2      https://cdn.sofifa.org/players/4/19/190871.png      Brazil   \n",
      "3      https://cdn.sofifa.org/players/4/19/193080.png       Spain   \n",
      "4      https://cdn.sofifa.org/players/4/19/192985.png     Belgium   \n",
      "...                                               ...         ...   \n",
      "18202  https://cdn.sofifa.org/players/4/19/238813.png     England   \n",
      "18203  https://cdn.sofifa.org/players/4/19/243165.png      Sweden   \n",
      "18204  https://cdn.sofifa.org/players/4/19/241638.png     England   \n",
      "18205  https://cdn.sofifa.org/players/4/19/246268.png     England   \n",
      "18206  https://cdn.sofifa.org/players/4/19/246269.png     England   \n",
      "\n",
      "                                      Flag  Overall  Potential  \\\n",
      "0      https://cdn.sofifa.org/flags/52.png       94         94   \n",
      "1      https://cdn.sofifa.org/flags/38.png       94         94   \n",
      "2      https://cdn.sofifa.org/flags/54.png       92         93   \n",
      "3      https://cdn.sofifa.org/flags/45.png       91         93   \n",
      "4       https://cdn.sofifa.org/flags/7.png       91         92   \n",
      "...                                    ...      ...        ...   \n",
      "18202  https://cdn.sofifa.org/flags/14.png       47         65   \n",
      "18203  https://cdn.sofifa.org/flags/46.png       47         63   \n",
      "18204  https://cdn.sofifa.org/flags/14.png       47         67   \n",
      "18205  https://cdn.sofifa.org/flags/14.png       47         66   \n",
      "18206  https://cdn.sofifa.org/flags/14.png       46         66   \n",
      "\n",
      "                      Club                                       Club Logo  \\\n",
      "0             FC Barcelona    https://cdn.sofifa.org/teams/2/light/241.png   \n",
      "1                 Juventus     https://cdn.sofifa.org/teams/2/light/45.png   \n",
      "2      Paris Saint-Germain     https://cdn.sofifa.org/teams/2/light/73.png   \n",
      "3        Manchester United     https://cdn.sofifa.org/teams/2/light/11.png   \n",
      "4          Manchester City     https://cdn.sofifa.org/teams/2/light/10.png   \n",
      "...                    ...                                             ...   \n",
      "18202      Crewe Alexandra    https://cdn.sofifa.org/teams/2/light/121.png   \n",
      "18203       Trelleborgs FF    https://cdn.sofifa.org/teams/2/light/703.png   \n",
      "18204     Cambridge United   https://cdn.sofifa.org/teams/2/light/1944.png   \n",
      "18205      Tranmere Rovers  https://cdn.sofifa.org/teams/2/light/15048.png   \n",
      "18206      Tranmere Rovers  https://cdn.sofifa.org/teams/2/light/15048.png   \n",
      "\n",
      "       ... Composure Marking StandingTackle  SlidingTackle  GKDiving  \\\n",
      "0      ...      96.0    33.0           28.0           26.0       6.0   \n",
      "1      ...      95.0    28.0           31.0           23.0       7.0   \n",
      "2      ...      94.0    27.0           24.0           33.0       9.0   \n",
      "3      ...      68.0    15.0           21.0           13.0      90.0   \n",
      "4      ...      88.0    68.0           58.0           51.0      15.0   \n",
      "...    ...       ...     ...            ...            ...       ...   \n",
      "18202  ...      45.0    40.0           48.0           47.0      10.0   \n",
      "18203  ...      42.0    22.0           15.0           19.0      10.0   \n",
      "18204  ...      41.0    32.0           13.0           11.0       6.0   \n",
      "18205  ...      46.0    20.0           25.0           27.0      14.0   \n",
      "18206  ...      43.0    40.0           43.0           50.0      10.0   \n",
      "\n",
      "       GKHandling GKKicking GKPositioning GKReflexes  Release Clause  \n",
      "0            11.0      15.0          14.0        8.0         €226.5M  \n",
      "1            11.0      15.0          14.0       11.0         €127.1M  \n",
      "2             9.0      15.0          15.0       11.0         €228.1M  \n",
      "3            85.0      87.0          88.0       94.0         €138.6M  \n",
      "4            13.0       5.0          10.0       13.0         €196.4M  \n",
      "...           ...       ...           ...        ...             ...  \n",
      "18202        13.0       7.0           8.0        9.0           €143K  \n",
      "18203         9.0       9.0           5.0       12.0           €113K  \n",
      "18204         5.0      10.0           6.0       13.0           €165K  \n",
      "18205         6.0      14.0           8.0        9.0           €143K  \n",
      "18206        15.0       9.0          12.0        9.0           €165K  \n",
      "\n",
      "[18207 rows x 60 columns]\n"
     ]
    }
   ],
   "source": [
    "import pandas as pd \n",
    "\n",
    "file_path='/Users/user/Desktop/python projects/fifa.csv'\n",
    "df=pd.read_csv(file_path)\n",
    "print(df)\n"
   ]
  },
  {
   "cell_type": "code",
   "execution_count": 3,
   "id": "156f2b63-2279-4abf-bec2-e9c6531b9eb6",
   "metadata": {},
   "outputs": [
    {
     "name": "stdout",
     "output_type": "stream",
     "text": [
      "                     Name  Age Nationality  Overall  Potential  \\\n",
      "0                L. Messi   31   Argentina       94         94   \n",
      "1       Cristiano Ronaldo   33    Portugal       94         94   \n",
      "2               Neymar Jr   26      Brazil       92         93   \n",
      "3                  De Gea   27       Spain       91         93   \n",
      "4            K. De Bruyne   27     Belgium       91         92   \n",
      "...                   ...  ...         ...      ...        ...   \n",
      "18202        J. Lundstram   19     England       47         65   \n",
      "18203  N. Christoffersson   19      Sweden       47         63   \n",
      "18204           B. Worman   16     England       47         67   \n",
      "18205      D. Walker-Rice   17     England       47         66   \n",
      "18206           G. Nugent   16     England       46         66   \n",
      "\n",
      "                      Club    Value   Wage  Weak Foot  Skill Moves  ...  \\\n",
      "0             FC Barcelona  €110.5M  €565K        4.0          4.0  ...   \n",
      "1                 Juventus     €77M  €405K        4.0          5.0  ...   \n",
      "2      Paris Saint-Germain  €118.5M  €290K        5.0          5.0  ...   \n",
      "3        Manchester United     €72M  €260K        3.0          1.0  ...   \n",
      "4          Manchester City    €102M  €355K        5.0          4.0  ...   \n",
      "...                    ...      ...    ...        ...          ...  ...   \n",
      "18202      Crewe Alexandra     €60K    €1K        2.0          2.0  ...   \n",
      "18203       Trelleborgs FF     €60K    €1K        2.0          2.0  ...   \n",
      "18204     Cambridge United     €60K    €1K        3.0          2.0  ...   \n",
      "18205      Tranmere Rovers     €60K    €1K        3.0          2.0  ...   \n",
      "18206      Tranmere Rovers     €60K    €1K        3.0          2.0  ...   \n",
      "\n",
      "      Composure Marking StandingTackle SlidingTackle  GKDiving  GKHandling  \\\n",
      "0          96.0    33.0           28.0          26.0       6.0        11.0   \n",
      "1          95.0    28.0           31.0          23.0       7.0        11.0   \n",
      "2          94.0    27.0           24.0          33.0       9.0         9.0   \n",
      "3          68.0    15.0           21.0          13.0      90.0        85.0   \n",
      "4          88.0    68.0           58.0          51.0      15.0        13.0   \n",
      "...         ...     ...            ...           ...       ...         ...   \n",
      "18202      45.0    40.0           48.0          47.0      10.0        13.0   \n",
      "18203      42.0    22.0           15.0          19.0      10.0         9.0   \n",
      "18204      41.0    32.0           13.0          11.0       6.0         5.0   \n",
      "18205      46.0    20.0           25.0          27.0      14.0         6.0   \n",
      "18206      43.0    40.0           43.0          50.0      10.0        15.0   \n",
      "\n",
      "       GKKicking  GKPositioning  GKReflexes  Release Clause  \n",
      "0           15.0           14.0         8.0         €226.5M  \n",
      "1           15.0           14.0        11.0         €127.1M  \n",
      "2           15.0           15.0        11.0         €228.1M  \n",
      "3           87.0           88.0        94.0         €138.6M  \n",
      "4            5.0           10.0        13.0         €196.4M  \n",
      "...          ...            ...         ...             ...  \n",
      "18202        7.0            8.0         9.0           €143K  \n",
      "18203        9.0            5.0        12.0           €113K  \n",
      "18204       10.0            6.0        13.0           €165K  \n",
      "18205       14.0            8.0         9.0           €143K  \n",
      "18206        9.0           12.0         9.0           €165K  \n",
      "\n",
      "[18207 rows x 49 columns]\n"
     ]
    }
   ],
   "source": [
    "columns_to_drop=['ID', 'Photo', 'Flag', 'Club Logo', 'Preferred Foot', \n",
    "                   'International Reputation', 'Work Rate', 'Body Type', \n",
    "                   'Position', 'Jersey Number', 'Loaned From']\n",
    "\n",
    "df=df.drop(columns=columns_to_drop)\n",
    "print(df)"
   ]
  },
  {
   "cell_type": "code",
   "execution_count": 5,
   "id": "048aa9e4-ce79-4dd6-9428-e39d5d51feeb",
   "metadata": {},
   "outputs": [
    {
     "name": "stdout",
     "output_type": "stream",
     "text": [
      "         Value      Wage  Release Clause\n",
      "0  110500000.0  565000.0     226500000.0\n",
      "1   77000000.0  405000.0     127100000.0\n",
      "2  118500000.0  290000.0     228100000.0\n",
      "3   72000000.0  260000.0     138600000.0\n",
      "4  102000000.0  355000.0     196400000.0\n"
     ]
    }
   ],
   "source": [
    "def currency_convert(value):\n",
    "    if pd.isna(value):\n",
    "        return value\n",
    "    value= value.replace('€','').replace('K','e3').replace('M','e6')\n",
    "    return float(value)\n",
    "\n",
    "df['Value']=df['Value'].apply(currency_convert)\n",
    "df['Wage']=df['Wage'].apply(currency_convert)\n",
    "df['Release Clause']=df['Release Clause'].apply(currency_convert)\n",
    "\n",
    "print(df[['Value','Wage','Release Clause']].head())"
   ]
  },
  {
   "cell_type": "code",
   "execution_count": 7,
   "id": "9d795d8c-4497-46d6-bbef-7a7fe814edfe",
   "metadata": {},
   "outputs": [
    {
     "name": "stderr",
     "output_type": "stream",
     "text": [
      "C:\\Users\\user\\AppData\\Local\\Temp\\ipykernel_9488\\544011705.py:1: UserWarning: Could not infer format, so each element will be parsed individually, falling back to `dateutil`. To ensure parsing is consistent and as-expected, please specify a format.\n",
      "  df['Joined'] = pd.to_datetime(df['Joined'], errors='coerce').dt.year\n"
     ]
    },
    {
     "name": "stdout",
     "output_type": "stream",
     "text": [
      "0    2004.0\n",
      "1    2018.0\n",
      "2    2017.0\n",
      "3    2011.0\n",
      "4    2015.0\n",
      "Name: Joined, dtype: float64\n"
     ]
    }
   ],
   "source": [
    "df['Joined'] = pd.to_datetime(df['Joined'], errors='coerce').dt.year\n",
    "\n",
    "\n",
    "print(df['Joined'].head())"
   ]
  },
  {
   "cell_type": "code",
   "execution_count": 9,
   "id": "f94db379-f77c-4192-9787-55aa9af8ead2",
   "metadata": {},
   "outputs": [
    {
     "name": "stdout",
     "output_type": "stream",
     "text": [
      "0   2021-01-01\n",
      "1   2022-01-01\n",
      "2   2022-01-01\n",
      "3   2020-01-01\n",
      "4   2023-01-01\n",
      "Name: Contract Valid Until, dtype: datetime64[ns]\n"
     ]
    }
   ],
   "source": [
    "df['Contract Valid Until'] = pd.to_datetime(df['Contract Valid Until'], errors='coerce')\n",
    "\n",
    "print(df['Contract Valid Until'].head())\n"
   ]
  },
  {
   "cell_type": "code",
   "execution_count": 11,
   "id": "16e94001-bc86-41eb-86c5-6cb062071a9d",
   "metadata": {},
   "outputs": [
    {
     "name": "stdout",
     "output_type": "stream",
     "text": [
      "0    67.0\n",
      "1    74.0\n",
      "2    69.0\n",
      "3    76.0\n",
      "4    71.0\n",
      "Name: Height, dtype: float64\n"
     ]
    }
   ],
   "source": [
    "df['Height'] = df['Height'].str.replace('\"', '').str.split(\"'\").apply(\n",
    "    lambda x: int(x[0]) * 12 + int(x[1]) if isinstance(x, list) else None).astype(float)\n",
    "\n",
    "\n",
    "print(df['Height'].head())"
   ]
  },
  {
   "cell_type": "code",
   "execution_count": 13,
   "id": "51dc9aaf-0ce1-49ba-9153-d1eb52b34df8",
   "metadata": {},
   "outputs": [
    {
     "name": "stdout",
     "output_type": "stream",
     "text": [
      "0    159.0\n",
      "1    183.0\n",
      "2    150.0\n",
      "3    168.0\n",
      "4    154.0\n",
      "Name: Weight, dtype: float64\n"
     ]
    }
   ],
   "source": [
    "df['Weight'] = df['Weight'].str.replace('lbs', '').astype(float)\n",
    "\n",
    "print(df['Weight'].head())"
   ]
  },
  {
   "cell_type": "code",
   "execution_count": 15,
   "id": "be619f28-0055-400c-996b-1692879039be",
   "metadata": {},
   "outputs": [
    {
     "name": "stdout",
     "output_type": "stream",
     "text": [
      "Missing values before imputation:\n",
      "Name                       0\n",
      "Age                        0\n",
      "Nationality                0\n",
      "Overall                    0\n",
      "Potential                  0\n",
      "Club                     241\n",
      "Value                      0\n",
      "Wage                       0\n",
      "Weak Foot                 48\n",
      "Skill Moves               48\n",
      "Joined                  1553\n",
      "Contract Valid Until    1553\n",
      "Height                    48\n",
      "Weight                    48\n",
      "Crossing                  48\n",
      "Finishing                 48\n",
      "HeadingAccuracy           48\n",
      "ShortPassing              48\n",
      "Volleys                   48\n",
      "Dribbling                 48\n",
      "Curve                     48\n",
      "FKAccuracy                48\n",
      "LongPassing               48\n",
      "BallControl               48\n",
      "Acceleration              48\n",
      "SprintSpeed               48\n",
      "Agility                   48\n",
      "Reactions                 48\n",
      "Balance                   48\n",
      "ShotPower                 48\n",
      "Jumping                   48\n",
      "Stamina                   48\n",
      "Strength                  48\n",
      "LongShots                 48\n",
      "Aggression                48\n",
      "Interceptions             48\n",
      "Positioning               48\n",
      "Vision                    48\n",
      "Penalties                 48\n",
      "Composure                 48\n",
      "Marking                   48\n",
      "StandingTackle            48\n",
      "SlidingTackle             48\n",
      "GKDiving                  48\n",
      "GKHandling                48\n",
      "GKKicking                 48\n",
      "GKPositioning             48\n",
      "GKReflexes                48\n",
      "Release Clause          1564\n",
      "dtype: int64\n",
      "Missing values after imputation:\n",
      "Name                       0\n",
      "Age                        0\n",
      "Nationality                0\n",
      "Overall                    0\n",
      "Potential                  0\n",
      "Club                     241\n",
      "Value                      0\n",
      "Wage                       0\n",
      "Weak Foot                  0\n",
      "Skill Moves                0\n",
      "Joined                     0\n",
      "Contract Valid Until    1553\n",
      "Height                     0\n",
      "Weight                     0\n",
      "Crossing                   0\n",
      "Finishing                  0\n",
      "HeadingAccuracy            0\n",
      "ShortPassing               0\n",
      "Volleys                    0\n",
      "Dribbling                  0\n",
      "Curve                      0\n",
      "FKAccuracy                 0\n",
      "LongPassing                0\n",
      "BallControl                0\n",
      "Acceleration               0\n",
      "SprintSpeed                0\n",
      "Agility                    0\n",
      "Reactions                  0\n",
      "Balance                    0\n",
      "ShotPower                  0\n",
      "Jumping                    0\n",
      "Stamina                    0\n",
      "Strength                   0\n",
      "LongShots                  0\n",
      "Aggression                 0\n",
      "Interceptions              0\n",
      "Positioning                0\n",
      "Vision                     0\n",
      "Penalties                  0\n",
      "Composure                  0\n",
      "Marking                    0\n",
      "StandingTackle             0\n",
      "SlidingTackle              0\n",
      "GKDiving                   0\n",
      "GKHandling                 0\n",
      "GKKicking                  0\n",
      "GKPositioning              0\n",
      "GKReflexes                 0\n",
      "Release Clause             0\n",
      "dtype: int64\n"
     ]
    }
   ],
   "source": [
    "missing_values = df.isnull().sum()\n",
    "print(\"Missing values before imputation:\")\n",
    "print(missing_values)\n",
    "\n",
    "\n",
    "df.fillna(df.mean(numeric_only=True), inplace=True)\n",
    "\n",
    "\n",
    "missing_values_after = df.isnull().sum()\n",
    "print(\"Missing values after imputation:\")\n",
    "print(missing_values_after)"
   ]
  },
  {
   "cell_type": "code",
   "execution_count": 19,
   "id": "d469b11a-26b4-4964-a21d-72e92d3565aa",
   "metadata": {},
   "outputs": [
    {
     "name": "stderr",
     "output_type": "stream",
     "text": [
      "Matplotlib is building the font cache; this may take a moment.\n"
     ]
    },
    {
     "data": {
      "image/png": "[encoded data removed]",
      "text/plain": [
       "<Figure size 1000x600 with 1 Axes>"
      ]
     },
     "metadata": {},
     "output_type": "display_data"
    }
   ],
   "source": [
    "import matplotlib.pyplot as plt\n",
    "import seaborn as sns\n",
    "plt.figure(figsize=(10, 6))\n",
    "sns.histplot(df['Overall'], kde=True, bins=30)\n",
    "plt.title('Distribution of Overall Rating')\n",
    "plt.xlabel('Overall Rating')\n",
    "plt.ylabel('Frequency')\n",
    "plt.show()\n"
   ]
  },
  {
   "cell_type": "code",
   "execution_count": 47,
   "id": "081da7bd-c718-4ab0-8109-4604b06062a6",
   "metadata": {},
   "outputs": [
    {
     "name": "stdout",
     "output_type": "stream",
     "text": [
      "Columns in the dataframe:\n",
      "['Name', 'Age', 'Nationality', 'Overall', 'Potential', 'Club', 'Value', 'Wage', 'Weak Foot', 'Skill Moves', 'Joined', 'Contract Valid Until', 'Height', 'Weight', 'Crossing', 'Finishing', 'HeadingAccuracy', 'ShortPassing', 'Volleys', 'Dribbling', 'Curve', 'FKAccuracy', 'LongPassing', 'BallControl', 'Acceleration', 'SprintSpeed', 'Agility', 'Reactions', 'Balance', 'ShotPower', 'Jumping', 'Stamina', 'Strength', 'LongShots', 'Aggression', 'Interceptions', 'Positioning', 'Vision', 'Penalties', 'Composure', 'Marking', 'StandingTackle', 'SlidingTackle', 'GKDiving', 'GKHandling', 'GKKicking', 'GKPositioning', 'GKReflexes', 'Release Clause']\n",
      "The following columns are missing in the dataframe: ['International Reputation']\n"
     ]
    }
   ],
   "source": [
    "print(\"Columns in the dataframe:\")\n",
    "print(df.columns.tolist())\n",
    "pairplot_vars = ['Overall','Value', 'Wage', 'International Reputation', 'Height', 'Weight', 'Release Clause']\n",
    "\n",
    "\n",
    "missing_columns = [col for col in pairplot_vars if col not in df.columns]\n",
    "if missing_columns:\n",
    "    print(f\"The following columns are missing in the dataframe: {missing_columns}\")\n",
    "else:\n",
    "    \n",
    "    sns.pairplot(df[pairplot_vars].dropna())\n",
    "    plt.show()\n"
   ]
  },
  {
   "cell_type": "code",
   "execution_count": 51,
   "id": "fa95f15a-e25d-4410-be85-235079df07c7",
   "metadata": {},
   "outputs": [
    {
     "name": "stdout",
     "output_type": "stream",
     "text": [
      "Top 20 Players whose contract expires in 2020:\n",
      "               Name  Overall      Wage  Age       Value\n",
      "3            De Gea       91  260000.0   27  72000000.0\n",
      "5         E. Hazard       91  340000.0   27  93000000.0\n",
      "6         L. Modrić       91  420000.0   32  67000000.0\n",
      "8      Sergio Ramos       91  380000.0   32  51000000.0\n",
      "13      David Silva       90  285000.0   32  60000000.0\n",
      "21        E. Cavani       89  200000.0   31  60000000.0\n",
      "24     G. Chiellini       89  215000.0   33  27000000.0\n",
      "31       C. Eriksen       88  205000.0   26  73500000.0\n",
      "39     Thiago Silva       88  165000.0   33  24000000.0\n",
      "46         K. Navas       87  195000.0   31  30500000.0\n",
      "49       Jordi Alba       87  250000.0   29  38000000.0\n",
      "50       D. Mertens       87  135000.0   31  45000000.0\n",
      "52        M. Hamšík       87  125000.0   30  46500000.0\n",
      "64      Alex Sandro       86  160000.0   27  36500000.0\n",
      "71  T. Alderweireld       86  150000.0   29  39000000.0\n",
      "73       M. Benatia       86  160000.0   31  30000000.0\n",
      "75      Fernandinho       86  185000.0   33  18000000.0\n",
      "80         N. Fekir       85   92000.0   24  50000000.0\n",
      "90           Parejo       85   66000.0   29  37000000.0\n",
      "98         E. Džeko       85  115000.0   32  30500000.0\n",
      "\n",
      "Average Wage: 205150.0\n",
      "Average Age: 29.95\n",
      "Correlation between Overall and Value: 0.6667878068079502\n"
     ]
    }
   ],
   "source": [
    "df['Contract Valid Until']=pd.to_datetime(df['Contract Valid Until'],errors='coerce')\n",
    "\n",
    "top_20=df[df['Contract Valid Until'].dt.year==2020].nlargest(20,'Overall')\n",
    "\n",
    "avg_wage_2020=top_20['Wage'].mean()\n",
    "avg_age_2020=top_20['Age'].mean()\n",
    "\n",
    "correlation_val_2020=top_20['Overall'].corr(top_20['Value'])\n",
    "\n",
    "print(\"Top 20 Players whose contract expires in 2020:\")\n",
    "print(top_20[['Name', 'Overall', 'Wage', 'Age', 'Value']])\n",
    "print(f\"\\nAverage Wage: {avg_wage_2020}\")\n",
    "print(f\"Average Age: {avg_age_2020}\")\n",
    "print(f\"Correlation between Overall and Value: {correlation_val_2020}\")\n"
   ]
  },
  {
   "cell_type": "code",
   "execution_count": 59,
   "id": "6f7764ca-ff22-45ba-a01d-dc970e309d88",
   "metadata": {},
   "outputs": [
    {
     "name": "stdout",
     "output_type": "stream",
     "text": [
      "\n",
      "Top 5 Players by Position:\n",
      "                 Name  Overall      Wage Position\n",
      "0   Cristiano Ronaldo       94  405000.0      DEF\n",
      "1           E. Hazard       91  340000.0      DEF\n",
      "2            J. Oblak       90   94000.0      DEF\n",
      "3         David Silva       90  285000.0      DEF\n",
      "4        A. Griezmann       89  145000.0      DEF\n",
      "5              De Gea       91  260000.0      FWD\n",
      "6           L. Suárez       91  455000.0      FWD\n",
      "7            T. Kroos       90  355000.0      FWD\n",
      "8           P. Dybala       89  205000.0      FWD\n",
      "9         T. Courtois       89  240000.0      FWD\n",
      "10           L. Messi       94  565000.0       GK\n",
      "11       K. De Bruyne       91  355000.0       GK\n",
      "12       Sergio Ramos       91  380000.0       GK\n",
      "13           D. Godín       90  125000.0       GK\n",
      "14            H. Kane       89  205000.0       GK\n",
      "15          Neymar Jr       92  290000.0      MID\n",
      "16          L. Modrić       91  420000.0      MID\n",
      "17     R. Lewandowski       90  205000.0      MID\n",
      "18           N. Kanté       89  225000.0      MID\n",
      "19      M. ter Stegen       89  240000.0      MID\n",
      "\n",
      "Players appearing in more than one position table:\n",
      "[]\n",
      "\n",
      "Average Wage for Top 5 Players in Each Position:\n",
      "289700.0\n"
     ]
    },
    {
     "name": "stderr",
     "output_type": "stream",
     "text": [
      "C:\\Users\\user\\AppData\\Local\\Temp\\ipykernel_9488\\759983023.py:7: DeprecationWarning: DataFrameGroupBy.apply operated on the grouping columns. This behavior is deprecated, and in a future version of pandas the grouping columns will be excluded from the operation. Either pass `include_groups=False` to exclude the groupings or explicitly select the grouping columns after groupby to silence this warning.\n",
      "  top_5_by_position = df.groupby('Position').apply(lambda x: x.nlargest(5, 'Overall')).reset_index(drop=True)\n"
     ]
    }
   ],
   "source": [
    "positions = ['GK', 'DEF', 'MID', 'FWD']  \n",
    "\n",
    "positions_full = (positions * (len(df) // len(positions) + 1))[:len(df)]\n",
    "df['Position'] = positions_full\n",
    "\n",
    "\n",
    "top_5_by_position = df.groupby('Position').apply(lambda x: x.nlargest(5, 'Overall')).reset_index(drop=True)\n",
    "\n",
    "\n",
    "duplicate_players = top_5_by_position[top_5_by_position.duplicated(['Name'], keep=False)]['Name'].unique()\n",
    "\n",
    "\n",
    "average_wage_top_5 = top_5_by_position['Wage'].mean()\n",
    "\n",
    "\n",
    "print(\"\\nTop 5 Players by Position:\")\n",
    "print(top_5_by_position[['Name', 'Overall', 'Wage', 'Position']])\n",
    "\n",
    "print(\"\\nPlayers appearing in more than one position table:\")\n",
    "print(duplicate_players)\n",
    "\n",
    "print(\"\\nAverage Wage for Top 5 Players in Each Position:\")\n",
    "print(average_wage_top_5)\n",
    "\n"
   ]
  },
  {
   "cell_type": "code",
   "execution_count": null,
   "id": "76ac68d5-a5b1-498a-83e0-f8ecfcf1ae0e",
   "metadata": {},
   "outputs": [],
   "source": []
  }
 ],
 "metadata": {
  "kernelspec": {
   "display_name": "Python 3 (ipykernel)",
   "language": "python",
   "name": "python3"
  },
  "language_info": {
   "codemirror_mode": {
    "name": "ipython",
    "version": 3
   },
   "file_extension": ".py",
   "mimetype": "text/x-python",
   "name": "python",
   "nbconvert_exporter": "python",
   "pygments_lexer": "ipython3",
   "version": "3.12.4"
  }
 },
 "nbformat": 4,
 "nbformat_minor": 5
}
